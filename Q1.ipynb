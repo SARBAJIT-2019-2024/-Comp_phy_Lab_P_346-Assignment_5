{
 "cells": [
  {
   "cell_type": "code",
   "execution_count": 3,
   "source": [
    "#Question 1 :Solve the following equation to an accuracy of 10^(−5), starting from an initial guess\r\n",
    "# interval [1.6, 2.4],log(x/2) − sin(5x/2) = 0.\r\n",
    "# If the given interval does not bracket a root, numerically determine an intervalthat will. \r\n",
    "# Use both Bisection and Regula-falsi method to solve the problem and compare them with a plot (f(xi) vs i) \r\n",
    "# and a table showing convergence to a root x_i against number of steps i.\r\n",
    "\r\n",
    "\r\n",
    "\r\n",
    "from My_Lib import *\r\n",
    "\r\n",
    "import math\r\n",
    "import matplotlib.pyplot as plt\r\n",
    "\r\n",
    "# Function definition\r\n",
    "def f(x):\r\n",
    "    return math.log(x/2) - math.sin(5*x/2)\r\n",
    "\r\n",
    "\r\n",
    "root_val_1, x_error_1,f_x_i_1, iterations_1 = bisection_method(f, 1.6, 2.4, 10**(-5))\r\n",
    "root_val_2, x_error_2,f_x_i_2, iterations_2 = regula_falsi_method(f, 1.6, 2.4, 10**(-5))\r\n",
    "\r\n",
    "\r\n",
    "\r\n",
    "\r\n",
    "print(\"Root of the equation via Bisection Method is: \", root_val_1)\r\n",
    "print(\"Root of the equation via Regula Falsi Method is: \", root_val_2)\r\n",
    "\r\n",
    "\r\n",
    "print (\"\\n------------Bisection Method--------------\")\r\n",
    "print(\"| |x_i-x_(i-1)\\t|\\t|\\ti\\t|\\t\")\r\n",
    "print (\"-----------------------------------------\")\r\n",
    "for i in range (1,len(iterations_1)):\r\n",
    "    print(\"|\\t%.5f\"%x_error_1[i],\"\\t|\\t\",iterations_1[i],\"\\t|\")\r\n",
    "    \r\n",
    "print (\"-----------------------------------------\")  \r\n",
    "\r\n",
    "print (\"------------Regula Falsi Method----------\")\r\n",
    "print(\"| |x_i-x_(i-1)\\t|\\t|\\ti\\t|\\t\")\r\n",
    "print (\"-----------------------------------------\")\r\n",
    "for i in range (1,len(iterations_2)):\r\n",
    "    print(\"|\\t%.11f\"%x_error_2[i],\"\\t|\\t\",iterations_2[i],\"\\t|\")\r\n",
    "    \r\n",
    "print (\"-----------------------------------------\")  \r\n",
    "\r\n",
    "\r\n",
    "\r\n",
    "plt.plot(iterations_1, f_x_i_1,'m-o', label=\"Bisection Method\")\r\n",
    "plt.plot(iterations_2, f_x_i_2,'r-o' ,label=\"Regular Falsi Method\")\r\n",
    "\r\n",
    "plt.title(\"Convergence of root for Bisection and Regula Falsi Method\")\r\n",
    "plt.xlabel(\"Iterations  $i$\")\r\n",
    "plt.ylabel(\"Absolute convergence ($f(x_i)$)\")\r\n",
    "plt.legend()\r\n",
    "plt.grid()\r\n",
    "plt.show()\r\n",
    "\r\n"
   ],
   "outputs": [
    {
     "output_type": "stream",
     "name": "stdout",
     "text": [
      "Root of the equation via Bisection Method is:  2.6231397924202913\n",
      "Root of the equation via Regula Falsi Method is:  2.6231403354363083\n",
      "\n",
      "------------Bisection Method--------------\n",
      "| |x_i-x_(i-1)\t|\t|\ti\t|\t\n",
      "-----------------------------------------\n",
      "|\t0.26802 \t|\t 1 \t|\n",
      "|\t0.13401 \t|\t 2 \t|\n",
      "|\t0.06700 \t|\t 3 \t|\n",
      "|\t0.03350 \t|\t 4 \t|\n",
      "|\t0.01675 \t|\t 5 \t|\n",
      "|\t0.00838 \t|\t 6 \t|\n",
      "|\t0.00419 \t|\t 7 \t|\n",
      "|\t0.00209 \t|\t 8 \t|\n",
      "|\t0.00105 \t|\t 9 \t|\n",
      "|\t0.00052 \t|\t 10 \t|\n",
      "|\t0.00026 \t|\t 11 \t|\n",
      "|\t0.00013 \t|\t 12 \t|\n",
      "|\t0.00007 \t|\t 13 \t|\n",
      "|\t0.00003 \t|\t 14 \t|\n",
      "|\t0.00002 \t|\t 15 \t|\n",
      "|\t0.00001 \t|\t 16 \t|\n",
      "-----------------------------------------\n",
      "------------Regula Falsi Method----------\n",
      "| |x_i-x_(i-1)\t|\t|\ti\t|\t\n",
      "-----------------------------------------\n",
      "|\t0.11755051207 \t|\t 1 \t|\n",
      "|\t0.00162033161 \t|\t 2 \t|\n",
      "|\t0.00004351404 \t|\t 3 \t|\n",
      "|\t0.00000115777 \t|\t 4 \t|\n",
      "|\t0.00000003080 \t|\t 5 \t|\n",
      "|\t0.00000000082 \t|\t 6 \t|\n",
      "|\t0.00000000002 \t|\t 7 \t|\n",
      "|\t0.00000000000 \t|\t 8 \t|\n",
      "|\t0.00000000000 \t|\t 9 \t|\n",
      "|\t0.00000000000 \t|\t 10 \t|\n",
      "-----------------------------------------\n"
     ]
    },
    {
     "output_type": "display_data",
     "data": {
      "image/png": "[encoded data removed]",
      "text/plain": [
       "<Figure size 432x288 with 1 Axes>"
      ]
     },
     "metadata": {
      "needs_background": "light"
     }
    }
   ],
   "metadata": {}
  }
 ],
 "metadata": {
  "orig_nbformat": 4,
  "language_info": {
   "name": "python",
   "version": "3.9.6",
   "mimetype": "text/x-python",
   "codemirror_mode": {
    "name": "ipython",
    "version": 3
   },
   "pygments_lexer": "ipython3",
   "nbconvert_exporter": "python",
   "file_extension": ".py"
  },
  "kernelspec": {
   "name": "python3",
   "display_name": "Python 3.9.6 64-bit"
  },
  "interpreter": {
   "hash": "dcacb0086e9a4f4eabd41c33bf4faac5ea0a3337ed3f5eff0680afa930572c04"
  }
 },
 "nbformat": 4,
 "nbformat_minor": 2
}