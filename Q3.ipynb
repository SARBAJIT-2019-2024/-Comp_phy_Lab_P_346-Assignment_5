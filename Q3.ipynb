{
 "cells": [
  {
   "cell_type": "code",
   "execution_count": 1,
   "source": [
    "#Question 3:\r\n",
    "\r\n",
    "#Find the roots (all real) of the following polynomial using the Laguerre’s and\r\n",
    "#synthetic division method.\r\n",
    "#P(x) = x^4 − 5*x^2 + 4\r\n",
    "\r\n",
    "from My_Lib import*\r\n",
    "\r\n",
    "a_i=[1,0,-5,0,4]  # Co efficients of the given function\r\n",
    "list_roots=driver_function_lag(a_i,0,10**(-5)) #calling Lauguerre function, intital guess=0, precision 10^(-5)\r\n",
    "\r\n",
    "print(\"The roots of the given equation by Lauguerre method :\") # Printing the roots\r\n",
    "\r\n",
    "print(\"x1= %.3f\"%list_roots[0])\r\n",
    "print(\"x2= %.3f\"%list_roots[1])    \r\n",
    "print(\"x3= %.3f\"%list_roots[2])\r\n",
    "print(\"x4= %.3f\"%list_roots[3])\r\n",
    "\r\n"
   ],
   "outputs": [
    {
     "output_type": "stream",
     "name": "stdout",
     "text": [
      "The roots of the given equation by Lauguerre method :\n",
      "x1= 1.000\n",
      "x2= -1.000\n",
      "x3= 2.000\n",
      "x4= -2.000\n"
     ]
    }
   ],
   "metadata": {}
  }
 ],
 "metadata": {
  "orig_nbformat": 4,
  "language_info": {
   "name": "python",
   "version": "3.9.6",
   "mimetype": "text/x-python",
   "codemirror_mode": {
    "name": "ipython",
    "version": 3
   },
   "pygments_lexer": "ipython3",
   "nbconvert_exporter": "python",
   "file_extension": ".py"
  },
  "kernelspec": {
   "name": "python3",
   "display_name": "Python 3.9.6 64-bit"
  },
  "interpreter": {
   "hash": "dcacb0086e9a4f4eabd41c33bf4faac5ea0a3337ed3f5eff0680afa930572c04"
  }
 },
 "nbformat": 4,
 "nbformat_minor": 2
}